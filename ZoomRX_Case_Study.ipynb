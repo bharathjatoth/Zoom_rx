{
 "cells": [
  {
   "cell_type": "code",
   "execution_count": 329,
   "metadata": {},
   "outputs": [],
   "source": [
    "import nltk  \n",
    "import xlrd\n",
    "import xlsxwriter"
   ]
  },
  {
   "cell_type": "code",
   "execution_count": 343,
   "metadata": {},
   "outputs": [],
   "source": [
    "def extract1(path,sheet,skiprow):\n",
    "    x = xlrd.open_workbook(path)   #opening the xlsx file with xlrd parser\n",
    "    sheet = sheet                  #which sheet do we need to get the outcome from   \n",
    "    y = x.sheet_by_name(sheet)     \n",
    "    skip_row = skiprow             #skiprows in the sheet for us it is 0   \n",
    "    sentences1 = []\n",
    "    workbook = xlsxwriter.Workbook(r'C:\\Users\\jatoth.kumar\\Desktop\\zoomrx_writer.xlsx')\n",
    "    worksheet = workbook.add_worksheet()    \n",
    "    worksheet.write(0,0,'Sentence')\n",
    "    worksheet.write(0,1,'Short Form')\n",
    "    worksheet.write(0,2,'Long Form')\n",
    "    row = 1\n",
    "    col = 0\n",
    "    for i in range(skip_row,y.nrows):\n",
    "        x = (str(y.cell(i,0).value))  #extract values of each cell here we get 3 sentences as the test cases as 3\n",
    "        print(\"Sentence - %s\"%x)      #displaying the sentence\n",
    "        tokens = nltk.word_tokenize(x)  #tokenizing the sentence into word\n",
    "        pos = nltk.pos_tag(tokens)       #assigning them the part of speech tags\n",
    "#         print(pos)\n",
    "        grammar = \"CHUNK:{<N.*>?<IN>?<CC>?<N.*>+<\\(><N.*>+<\\)>}\"    # defining a grammar which is specified to the information we need to extract\n",
    "        cp = nltk.RegexpParser(grammar)\n",
    "        result = cp.parse(pos)\n",
    "        result.draw()                  #uncomment it when to view the type of strucuture we have with the sentence\n",
    "        final = []\n",
    "        for subtree in result.subtrees(filter=lambda t: t.label() == 'CHUNK'):    #appending the values for displaying\n",
    "            final.append(' '.join([x[0] for x in subtree]))\n",
    "        worksheet.write(row,col,x)\n",
    "        col = col+1\n",
    "        if len(final)>0:\n",
    "            x1 = ''\n",
    "            x2 = ''\n",
    "            for i in range(len(final)):\n",
    "                x1 = x1 + final[i].split('(')[0] + ' '\n",
    "                x2 = x2 + final[i].split('(')[1].replace(')','') +' '\n",
    "                print(\"longform - %s\"%final[i].split('(')[0])\n",
    "                print(\"Short Form - %s\"%final[i].split('(')[1].replace(')',''))\n",
    "            worksheet.write(row,col,x2)\n",
    "            worksheet.write(row,col+1,x1)\n",
    "        row = row+1\n",
    "        col = 0\n",
    "    workbook.close()\n",
    "        "
   ]
  },
  {
   "cell_type": "code",
   "execution_count": 344,
   "metadata": {},
   "outputs": [
    {
     "name": "stdout",
     "output_type": "stream",
     "text": [
      "Sentence - The Food and Drug Administration (FDA) is a government agency established in 1906 with the passage of the Federal agency established in 1906 with the passage of the Federal\n",
      "longform - Food and Drug Administration \n",
      "Short Form -  FDA \n",
      "Sentence - Hepatitis C (Hep C) is a chronic liver disease caused by the Hepatitis C virus (HCV).\n",
      "longform - Hepatitis C \n",
      "Short Form -  Hep C \n",
      "longform - Hepatitis C virus \n",
      "Short Form -  HCV \n",
      "Sentence - The hydrolysis of lipids in human high-density lipoprotein (HDL) by esterases first separated on a polyvinylidene fluoride membrane.\n",
      "longform - high-density lipoprotein \n",
      "Short Form -  HDL \n"
     ]
    }
   ],
   "source": [
    "if __name__==\"__main__\":\n",
    "    extract1(r'C:\\Users\\jatoth.kumar\\Desktop\\zoomrx.xlsx','Sheet1',0)"
   ]
  },
  {
   "cell_type": "code",
   "execution_count": null,
   "metadata": {},
   "outputs": [],
   "source": []
  }
 ],
 "metadata": {
  "kernelspec": {
   "display_name": "Python 3",
   "language": "python",
   "name": "python3"
  },
  "language_info": {
   "codemirror_mode": {
    "name": "ipython",
    "version": 3
   },
   "file_extension": ".py",
   "mimetype": "text/x-python",
   "name": "python",
   "nbconvert_exporter": "python",
   "pygments_lexer": "ipython3",
   "version": "3.6.4"
  }
 },
 "nbformat": 4,
 "nbformat_minor": 2
}
